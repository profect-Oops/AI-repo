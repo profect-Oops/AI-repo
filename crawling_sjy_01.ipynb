{
 "cells": [
  {
   "cell_type": "code",
   "execution_count": 5,
   "id": "aa330229-e4ed-410e-9adf-de276585d7c1",
   "metadata": {},
   "outputs": [
    {
     "ename": "SyntaxError",
     "evalue": "invalid syntax (3244386768.py, line 1)",
     "output_type": "error",
     "traceback": [
      "\u001b[1;36m  Cell \u001b[1;32mIn[5], line 1\u001b[1;36m\u001b[0m\n\u001b[1;33m    selenium import webdriver\u001b[0m\n\u001b[1;37m             ^\u001b[0m\n\u001b[1;31mSyntaxError\u001b[0m\u001b[1;31m:\u001b[0m invalid syntax\n"
     ]
    }
   ],
   "source": [
    "selenium import webdriver\n",
    "from selenium.webdriver.common.by import By\n",
    "from selenium.webdriver.chrome.service import Service\n",
    "from webdriver_manager.chrome import ChromeDriverManager\n",
    "import time"
   ]
  },
  {
   "cell_type": "code",
   "execution_count": 4,
   "id": "6c17ed65-ef70-432f-9760-817502195790",
   "metadata": {},
   "outputs": [
    {
     "ename": "SyntaxError",
     "evalue": "invalid syntax (558804159.py, line 1)",
     "output_type": "error",
     "traceback": [
      "\u001b[1;36m  Cell \u001b[1;32mIn[4], line 1\u001b[1;36m\u001b[0m\n\u001b[1;33m    selenium import webdriver\u001b[0m\n\u001b[1;37m             ^\u001b[0m\n\u001b[1;31mSyntaxError\u001b[0m\u001b[1;31m:\u001b[0m invalid syntax\n"
     ]
    }
   ],
   "source": [
    "selenium import webdriver\n",
    "from selenium.webdriver.common.by import By\n",
    "from selenium.webdriver.chrome.service import Service\n",
    "from webdriver_manager.chrome import ChromeDriverManager\n",
    "import time\n",
    "\n",
    "# 웹드라이버 설정 (자동으로 최신 크롬 드라이버 다운로드)\n",
    "service = Service(ChromeDriverManager().install())\n",
    "options = webdriver.ChfromromeOptions()\n",
    "options.add_argument(\"--headless\")  # 브라우저 창을 띄우지 않음\n",
    "options.add_argument(\"--disable-gpu\")\n",
    "options.add_argument(\"--no-sandbox\")\n",
    "options.add_argument(\"--disable-dev-shm-usage\")\n",
    "\n",
    "# 드라이버 실행\n",
    "driver = webdriver.Chrome(service=service, options=options)\n",
    "\n",
    "# 대상 URL\n",
    "url = \"https://coinmarketcap.com/headlines/news/\"\n",
    "driver.get(url)\n",
    "\n",
    "# 페이지가 로딩될 시간을 충분히 줌 (필요에 따라 조절)\n",
    "time.sleep(5)\n",
    "\n",
    "# 클래스명을 기준으로 <div> 내부의 <a> 텍스트 추출\n",
    "div_class = \"sc-4c05d6ef-0 clJopV\"  # <div>의 클래스명\n",
    "elements = driver.find_elements(By.CLASS_NAME, \"clJopV\")  # 클래스 이름 일부로 검색\n",
    "\n",
    "for idx, element in enumerate(elements, 1):\n",
    "    try:\n",
    "        # <a> 태그 찾기\n",
    "        anchor = element.find_element(By.TAG_NAME, \"a\")\n",
    "        print(f\"{idx}. {anchor.text.strip()}\")\n",
    "    except Exception as e:\n",
    "        print(f\"{idx}. <a> 태그 없음\")"
   ]
  },
  {
   "cell_type": "code",
   "execution_count": 4,
   "id": "7ed55f0c-2034-41db-9d52-9b885fd50832",
   "metadata": {},
   "outputs": [
    {
     "ename": "SyntaxError",
     "evalue": "invalid syntax (558804159.py, line 1)",
     "output_type": "error",
     "traceback": [
      "\u001b[1;36m  Cell \u001b[1;32mIn[4], line 1\u001b[1;36m\u001b[0m\n\u001b[1;33m    selenium import webdriver\u001b[0m\n\u001b[1;37m             ^\u001b[0m\n\u001b[1;31mSyntaxError\u001b[0m\u001b[1;31m:\u001b[0m invalid syntax\n"
     ]
    }
   ],
   "source": [
    "selenium import webdriver\n",
    "from selenium.webdriver.common.by import By\n",
    "from selenium.webdriver.chrome.service import Service\n",
    "from webdriver_manager.chrome import ChromeDriverManager\n",
    "import time\n",
    "\n",
    "# 웹드라이버 설정 (자동으로 최신 크롬 드라이버 다운로드)\n",
    "service = Service(ChromeDriverManager().install())\n",
    "options = webdriver.ChfromromeOptions()\n",
    "options.add_argument(\"--headless\")  # 브라우저 창을 띄우지 않음\n",
    "options.add_argument(\"--disable-gpu\")\n",
    "options.add_argument(\"--no-sandbox\")\n",
    "options.add_argument(\"--disable-dev-shm-usage\")\n",
    "\n",
    "# 드라이버 실행\n",
    "driver = webdriver.Chrome(service=service, options=options)\n",
    "\n",
    "# 대상 URL\n",
    "url = \"https://coinmarketcap.com/headlines/news/\"\n",
    "driver.get(url)\n",
    "\n",
    "# 페이지가 로딩될 시간을 충분히 줌 (필요에 따라 조절)\n",
    "time.sleep(5)\n",
    "\n",
    "# 클래스명을 기준으로 <div> 내부의 <a> 텍스트 추출\n",
    "div_class = \"sc-4c05d6ef-0 clJopV\"  # <div>의 클래스명\n",
    "elements = driver.find_elements(By.CLASS_NAME, \"clJopV\")  # 클래스 이름 일부로 검색\n",
    "\n",
    "for idx, element in enumerate(elements, 1):\n",
    "    try:\n",
    "        # <a> 태그 찾기\n",
    "        anchor = element.find_element(By.TAG_NAME, \"a\")\n",
    "        print(f\"{idx}. {anchor.text.strip()}\")\n",
    "    except Exception as e:\n",
    "        print(f\"{idx}. <a> 태그 없음\")"
   ]
  },
  {
   "cell_type": "code",
   "execution_count": null,
   "id": "7713c894-e277-4553-8b65-2f71897758bd",
   "metadata": {},
   "outputs": [],
   "source": []
  },
  {
   "cell_type": "markdown",
   "id": "40adb1ec-c2f5-4e71-80f9-af735f11646e",
   "metadata": {},
   "source": [
    "selenium import webdriver → from selenium import webdriver로 수정하여 올바른 구문 사용ㅡelenium import webdriver → from selenium import webdriver로 수정하여 올바른 구문 사용ㅡ\n",
    "webdriver.ChfromchromeOptions() → webdriver.ChromeOptions()로 수정하여 오타 해결"
   ]
  },
  {
   "cell_type": "code",
   "execution_count": 6,
   "id": "3dc475b3-e51b-4189-aae2-61b410c2efa1",
   "metadata": {},
   "outputs": [
    {
     "name": "stdout",
     "output_type": "stream",
     "text": [
      "1. Solana’s Recovery Play: Why XRP and These 5 Cryptos Are the Smartest Bets After the Dip!\n",
      "2. CFTC Probes Crypto.com and Kalshi Over Super Bowl Event Contracts\n",
      "3. INF Presale Nears $1 Million as Render Price Crashes Below $6\n",
      "4. VICKY Token Rises 22% in 24 Hours, Vitalik Buterin Retains Majority Holdings\n",
      "5. BlockDAG’s $200M Presale Blows Away LINK & Avalanche: Is This the Next Big Crypto?\n",
      "6. BREAKING: US Cryptocurrency Czar Talks About Bitcoin Reserve On Live Stream – Here Are All The Details Of The Press Conference\n",
      "7. Best New Meme Coins to Invest in Now: $BTFD Draws Major Investor Attention With Its Crazy 100% Bonus as Bonk & Dogwifhat Go Up\n",
      "8. Aptos (APT) Could Still Spike by 8x Despite Ongoing Price Decline: Insights from a Crypto YouTuber\n",
      "9. Regretting Not Investing in Cardano Before Its Volume Surged 428%? Qubetics Could Be the Next Big Crypto to Explode, With Its Presale Surpas...\n",
      "10. From Shiba Inu’s ICO FOMO to BTFD Coin’s Play-to-Earn Jackpot: The Best New Meme Coins to Buy and Hold for the Short Term\n",
      "11. Qubetics Surges with 460M Tokens Sold, While Terra Classic & Gala Dominate – Top Cryptos to Buy This Month\n",
      "12. SEC acting chair onboards ex-Coin Center director to crypto task force\n",
      "13. Chainalysis partners Lukka to integrate off-chain data in VASP risk product\n",
      "14. Solana Price To Hit $300 Once Again, Solana Swing Traders are Bullish on OZAK AI For No Reason\n",
      "15. Helium Mobile Advances Free 5G Wireless Plan\n",
      "16. FTT Price Prediction: FTX’s Creditor Payout Incoming\n",
      "17. Breaking: David Sacks’ Vision for Digital Assets, Everything He Promised in His Crypto Conference\n",
      "18. Analyst: Bitcoin miners thrived in Q4 2024 as BTC surged past $100K\n",
      "19. Web3Bay is on the Verge of a 10,000% Surge! Holders Are Thrilled – Let’s Find Out How It’s Better Than Ripple (XRP)\n",
      "20. Senator Hagerty to Introduce GENIUS Act for Stablecoin Rules\n",
      "21. FTT Price Prediction: FTX’s Creditor Payout Incoming\n",
      "22. Breaking: David Sacks’ Vision for Digital Assets, Everything He Promised in His Crypto Conference\n",
      "23. Analyst: Bitcoin miners thrived in Q4 2024 as BTC surged past $100K\n",
      "24. Web3Bay is on the Verge of a 10,000% Surge! Holders Are Thrilled – Let’s Find Out How It’s Better Than Ripple (XRP)\n",
      "25. Senator Hagerty to Introduce GENIUS Act for Stablecoin Rules\n",
      "26. Is Trump’s Token Facing Potential Collapse?\n",
      "27. Giant Company Continuously Continues to Accumulate This Altcoin: Applying MicroStrategy Tactics\n",
      "28. Solana (SOL) Can Hit $700 in Next 2 Months Along with this New AI Altcoin\n",
      "29. Trump’s Token Stirs Controversy and Concern in the Market\n",
      "30. DDBMiner helps you earn $32,800 a day: the most popular cloud mining brand\n",
      "31. Arkham: Satoshi Nakamoto’s Bitcoin stash worth over $100b\n",
      "32. Web3Bay Presale Crosses $1 Million: Is This the Best Crypto to Buy in February? Insights on XRP & SUI\n",
      "33. Kaspa Price Surges, Tron Fights Key Levels—Meanwhile, BlockDAG’s Presale Soars Beyond $191.5M\n",
      "34. Top Crypto Gems for 2025: BlockDAG, Bitcoin, XRP, Stacks & More— Analysts’ Recommended Best 5 Picks!\n",
      "35. Will Trump’s trade war bring an early end to the Bitcoin bull market?\n",
      "36. Solana TVL Surges as Altcoin Market Declines Post Pump.Fun Launch\n",
      "37. Blaze AI to Replace Snowflake Database with Space and Time\n",
      "38. Trump's Crypto Czar Sacks Says 'Golden Age' Coming\n",
      "39. Shiba Inu Started Small, Now It’s Huge—Now, This Best New Meme Coin to Join Now Might Follow!\n",
      "40. Canadian Fugitive Wanted for $65M Crypto Heist in KyberSwap Case\n"
     ]
    }
   ],
   "source": [
    "from selenium import webdriver\n",
    "from selenium.webdriver.common.by import By\n",
    "from selenium.webdriver.chrome.service import Service\n",
    "from webdriver_manager.chrome import ChromeDriverManager\n",
    "import time\n",
    "\n",
    "# 웹드라이버 설정 (자동으로 최신 크롬 드라이버 다운로드)\n",
    "service = Service(ChromeDriverManager().install())\n",
    "options = webdriver.ChromeOptions()  # 오타 수정: ChromeOptions() 사용\n",
    "options.add_argument(\"--headless\")  # 브라우저 창을 띄우지 않음\n",
    "options.add_argument(\"--disable-gpu\")\n",
    "options.add_argument(\"--no-sandbox\")\n",
    "options.add_argument(\"--disable-dev-shm-usage\")\n",
    "\n",
    "# 드라이버 실행\n",
    "driver = webdriver.Chrome(service=service, options=options)\n",
    "\n",
    "# 대상 URL\n",
    "url = \"https://coinmarketcap.com/headlines/news/\"\n",
    "driver.get(url)\n",
    "\n",
    "# 페이지가 로딩될 시간을 충분히 줌 (필요에 따라 조절)\n",
    "time.sleep(5)\n",
    "\n",
    "# 클래스명을 기준으로 <div> 내부의 <a> 텍스트 추출\n",
    "div_class = \"sc-4c05d6ef-0 clJopV\"  # <div>의 클래스명\n",
    "elements = driver.find_elements(By.CLASS_NAME, \"clJopV\")  # 클래스 이름 일부로 검색\n",
    "\n",
    "for idx, element in enumerate(elements, 1):\n",
    "    try:\n",
    "        # <a> 태그 찾기\n",
    "        anchor = element.find_element(By.TAG_NAME, \"a\")\n",
    "        print(f\"{idx}. {anchor.text.strip()}\")\n",
    "    except Exception as e:\n",
    "        print(f\"{idx}. <a> 태그 없음\")\n",
    "\n",
    "# 드라이버 종료\n",
    "driver.quit()\n"
   ]
  },
  {
   "cell_type": "code",
   "execution_count": null,
   "id": "e46f5d57-3506-42a3-9201-9a54d5f4a980",
   "metadata": {},
   "outputs": [],
   "source": []
  },
  {
   "cell_type": "code",
   "execution_count": null,
   "id": "bdd9bc4e-d452-495e-876b-86f774ab0689",
   "metadata": {},
   "outputs": [],
   "source": []
  },
  {
   "cell_type": "code",
   "execution_count": null,
   "id": "f2bc0b24-7b70-4639-9154-84d3b2eebdc5",
   "metadata": {},
   "outputs": [],
   "source": []
  },
  {
   "cell_type": "code",
   "execution_count": null,
   "id": "60bee424-5f4b-4e53-8046-9597a7ac0759",
   "metadata": {},
   "outputs": [],
   "source": []
  },
  {
   "cell_type": "code",
   "execution_count": null,
   "id": "6aa17f74-804a-4f1e-a7f8-b8d83393e136",
   "metadata": {},
   "outputs": [],
   "source": []
  },
  {
   "cell_type": "code",
   "execution_count": null,
   "id": "6bc4da30-c821-45ad-a690-2dde91a21495",
   "metadata": {},
   "outputs": [],
   "source": []
  },
  {
   "cell_type": "code",
   "execution_count": null,
   "id": "71db950d-8d01-4df7-9484-8ba9adaca7ee",
   "metadata": {},
   "outputs": [],
   "source": []
  },
  {
   "cell_type": "code",
   "execution_count": null,
   "id": "83ce9576-d3d9-4a31-ad6a-9d93d78f2bdf",
   "metadata": {},
   "outputs": [],
   "source": []
  },
  {
   "cell_type": "code",
   "execution_count": null,
   "id": "ea93bb61-b49d-4352-b6f8-1c3bcde1c184",
   "metadata": {},
   "outputs": [],
   "source": []
  },
  {
   "cell_type": "code",
   "execution_count": null,
   "id": "c32337fc-4abe-441a-af90-2cc50f515265",
   "metadata": {},
   "outputs": [],
   "source": []
  },
  {
   "cell_type": "code",
   "execution_count": null,
   "id": "e322650c-e75d-4a7f-bd0b-b6c3cad8d809",
   "metadata": {},
   "outputs": [],
   "source": []
  }
 ],
 "metadata": {
  "kernelspec": {
   "display_name": "GoormCloudEngg",
   "language": "python",
   "name": "goormcloudengg"
  },
  "language_info": {
   "codemirror_mode": {
    "name": "ipython",
    "version": 3
   },
   "file_extension": ".py",
   "mimetype": "text/x-python",
   "name": "python",
   "nbconvert_exporter": "python",
   "pygments_lexer": "ipython3",
   "version": "3.12.8"
  }
 },
 "nbformat": 4,
 "nbformat_minor": 5
}
