{
 "cells": [
  {
   "cell_type": "code",
   "execution_count": 21,
   "id": "e7221ee1-1c70-4e9e-89e5-1d5e86536a03",
   "metadata": {},
   "outputs": [
    {
     "name": "stdout",
     "output_type": "stream",
     "text": [
      "1. Can Dogwifhat And TRUMP Compete In Recent Market Trends – This New $0.04 May Be The Best Crypto Gem For 2025\n",
      "2. Altcoins that follow in the footsteps of Bitcoin and Ripple\n",
      "3. Crypto Price Today (04th Feb, 2025): Bitcoin Nears $100k Again | XCN Becomes Top Gainer\n",
      "4. Bitcoin ETFs switch to outflows as Trump’s tariffs shake markets\n",
      "5. Expert Revises SUI Price Prediction as Technical Indicators Align\n",
      "6. Trump Approves US Sovereign Wealth Fund, Will it Buy Bitcoin?\n",
      "7. Two Surprise Altcoins Invested in by Donald Trump's Cryptocurrency Project Respond to Allegations! Is There a Secret Agreement Between Them?\n",
      "8. What is Nakamoto Games? NAKA Price Prediction 2025, 2026 to 2030\n",
      "9. Hong Kong’s SFC ramps up crypto oversight with new staff\n",
      "10. Spot Traders Aid in Rapid BTC Price Recovery By Accumulating Bitcoin at Discounted Prices\n",
      "11. Missed the Ethereum Boat? Here’s Why Qubetics is the Best Crypto Presale to Join Now\n",
      "12. Next Crypto to Hit $1: Qubetics Bridges Blockchains, Arweave Redefines Permanent Storage, and Render Unlocks Decentralized GPU Power\n",
      "13. Dogecoin Price Final Capitulation Over? 9000% Gains Could be on the Card If..\n",
      "14. Bitcoin Price (BTC) Prediction For February 4\n",
      "15. Ethereum Hits $2.9K After Eric Trump Suggests Buying ETH\n",
      "16. XRP Price Until We Have a Rendezvous: Here’s What You Need to Know\n",
      "17. Tokenized RWA markets return to ATH levels as tokens lead crypto recovery\n",
      "18. Probe of Crypto.com, Kalshi’s Super Bowl Bets Is About the Nature of ‘Gaming’: Crypto Lawyer\n",
      "19. Crypto Markets Rebound as Trump Pauses Tariffs and Signs Sovereign Wealth Fund Order\n",
      "20. Asia markets rebound on Trump tariff delays; eyes on Trump and Xi talks amid tariff dispute\n",
      "21. $BTFD’s Hot 100% Bonus, Ponke’s 186% Volume Leap, and MEME’s $172M Market Cap Are the Top New Meme Coins to Join Today\n",
      "22. Could OFFICIALMAGACOIN.COM Be the Next XRP and SOLANA? Experts Weigh In!\n",
      "23. 22-Year-Old Canadian Hacker Accused of Stealing $65 Million in Cryptocurrency\n",
      "24. World Liberty Financial Offloads ETH Holdings Amid Market Volatility\n",
      "25. BNB Holds Strong & XRP ETF Rumours Keep Price High, But Here’s Why Web3Bay is the Best Crypto for 2025\n",
      "26. ETH Price Rebounds on Eric Trump Endorsement but Still Trails Peers\n",
      "27. US Treasury sued for giving Elon Musk’s DOGE access to sensitive info\n",
      "28. XRP Price Prediction For February 4\n",
      "29. Toncoin & Solana Were Noticed By A Few Certain Quantitative Analysts At Their Beginnings: They Think They Have Found A New One!\n",
      "30. El Salvador buys 11 more Bitcoin, boosting reserves to 6,067 BTC\n",
      "31. Best Crypto Airdrops 2025: Top Free Token Giveaways to Join\n",
      "32. Ripple Locks 700 Million XRP in Escrow – What Next for XRP?\n",
      "33. Bitcoin Down 2.5% as China Slaps Retaliatory Tariffs on U.S., Probes Google\n",
      "34. Invest Early in Arctic Pablo Coin for Over 16,936% ROI—Trump Coin Grows and Osaka Protocol Strengthens Tech Ecosystem\n",
      "35. FOMO Alert: Arctic Pablo Coin’s Presale Could 100x Your Investment—Get In Before Stage 8 Ends! Floki Inu’s Meteoric Rise and Neiro’s Growth\n",
      "36. XRP Holds Above $2.47, Eyes Potential 75% Surge Toward $4.80\n",
      "37. More than 50% of validators signal to increase ETH gas limit\n",
      "38. PEPE Recovery Signals a Bottom – Analyst Predicts Major Rally Ahead\n",
      "39. Coinbase Gains FCA Approval Strengthening UK Market Presence\n",
      "40. Turn $100 into $1 Million: Solana & XRP Whales Bet on These 5 Altcoins!\n"
     ]
    }
   ],
   "source": [
    "from selenium import webdriver\n",
    "from selenium.webdriver.common.by import By\n",
    "from selenium.webdriver.chrome.service import Service\n",
    "from webdriver_manager.chrome import ChromeDriverManager\n",
    "import time\n",
    "\n",
    "# 웹드라이버 설정 (자동으로 최신 크롬 드라이버 다운로드)\n",
    "service = Service(ChromeDriverManager().install())\n",
    "options = webdriver.ChromeOptions()\n",
    "options.add_argument(\"--headless\")  # 브라우저 창을 띄우지 않음\n",
    "options.add_argument(\"--disable-gpu\")\n",
    "options.add_argument(\"--no-sandbox\")\n",
    "options.add_argument(\"--disable-dev-shm-usage\")\n",
    "\n",
    "# 드라이버 실행\n",
    "driver = webdriver.Chrome(service=service, options=options)\n",
    "\n",
    "# 대상 URL\n",
    "url = \"https://coinmarketcap.com/headlines/news/\"\n",
    "driver.get(url)\n",
    "\n",
    "# 페이지가 로딩될 시간을 충분히 줌 (필요에 따라 조절)\n",
    "time.sleep(5)\n",
    "\n",
    "# 클래스명을 기준으로 <div> 내부의 <a> 텍스트 추출\n",
    "div_class = \"sc-4c05d6ef-0 clJopV\"  # <div>의 클래스명\n",
    "elements = driver.find_elements(By.CLASS_NAME, \"clJopV\")  # 클래스 이름 일부로 검색\n",
    "\n",
    "for idx, element in enumerate(elements, 1):\n",
    "    try:\n",
    "        # <a> 태그 찾기\n",
    "        anchor = element.find_element(By.TAG_NAME, \"a\")\n",
    "        print(f\"{idx}. {anchor.text.strip()}\")\n",
    "    except Exception as e:\n",
    "        print(f\"{idx}. <a> 태그 없음\")\n",
    "\n",
    "# 테스트"
   ]
  },
  {
   "cell_type": "code",
   "execution_count": null,
   "id": "85c33e70-9cc7-4eae-9b28-e7a7469c95d6",
   "metadata": {},
   "outputs": [],
   "source": []
  },
  {
   "cell_type": "code",
   "execution_count": null,
   "id": "eed6174c-0120-4563-a03b-730513d668cb",
   "metadata": {},
   "outputs": [],
   "source": []
  }
 ],
 "metadata": {
  "kernelspec": {
   "display_name": "Python 3 (ipykernel)",
   "language": "python",
   "name": "python3"
  },
  "language_info": {
   "codemirror_mode": {
    "name": "ipython",
    "version": 3
   },
   "file_extension": ".py",
   "mimetype": "text/x-python",
   "name": "python",
   "nbconvert_exporter": "python",
   "pygments_lexer": "ipython3",
   "version": "3.12.4"
  }
 },
 "nbformat": 4,
 "nbformat_minor": 5
}
