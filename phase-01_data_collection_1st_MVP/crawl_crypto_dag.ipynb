{
 "cells": [
  {
   "cell_type": "code",
   "execution_count": null,
   "id": "f3fc2b50-dbfc-484c-b133-f4eeac519649",
   "metadata": {},
   "outputs": [],
   "source": [
    "from airflow import DAG\n",
    "from airflow.operators.python import PythonOperator\n",
    "import subprocess\n",
    "from datetime import datetime, timedelta\n",
    "\n",
    "# DAG 기본 설정\n",
    "default_args = {\n",
    "    \"owner\": \"airflow\",\n",
    "    \"depends_on_past\": False,\n",
    "    \"start_date\": datetime(2024, 2, 16),  # DAG 시작 날짜\n",
    "    \"email_on_failure\": False,\n",
    "    \"email_on_retry\": False,\n",
    "    \"retries\": 1,\n",
    "    \"retry_delay\": timedelta(minutes=5),\n",
    "}\n",
    "\n",
    "# 크롤링 실행 함수 (crypto_crawler.py 실행)\n",
    "def run_crypto_crawler():\n",
    "    subprocess.run([\"python3\", \"/home/user/airflow/dags/crypto_crawler.py\"], check=True)\n",
    "\n",
    "# DAG 생성 (5분마다 실행)\n",
    "dag = DAG(\n",
    "    \"crypto_news_crawler\",\n",
    "    default_args=default_args,\n",
    "    description=\"CryptoPanic 뉴스 크롤러 DAG\",\n",
    "    schedule_interval=\"*/5 * * * *\",  # 매 5분마다 실행\n",
    "    catchup=False,\n",
    ")\n",
    "\n",
    "# PythonOperator를 사용해 크롤링 코드 실행\n",
    "run_crawler = PythonOperator(\n",
    "    task_id=\"run_crypto_crawler\",\n",
    "    python_callable=run_crypto_crawler,\n",
    "    dag=dag,\n",
    ")\n",
    "\n",
    "run_crawler\n"
   ]
  }
 ],
 "metadata": {
  "kernelspec": {
   "display_name": "GoormCloudEngg",
   "language": "python",
   "name": "goormcloudengg"
  },
  "language_info": {
   "codemirror_mode": {
    "name": "ipython",
    "version": 3
   },
   "file_extension": ".py",
   "mimetype": "text/x-python",
   "name": "python",
   "nbconvert_exporter": "python",
   "pygments_lexer": "ipython3",
   "version": "3.12.8"
  }
 },
 "nbformat": 4,
 "nbformat_minor": 5
}
