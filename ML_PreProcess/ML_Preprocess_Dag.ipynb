{
 "cells": [
  {
   "cell_type": "code",
   "execution_count": null,
   "id": "9ec43190-63d2-47e2-b94a-6ed431cd2e14",
   "metadata": {},
   "outputs": [],
   "source": [
    "from airflow import DAG\n",
    "from airflow.operators.python import PythonOperator\n",
    "from airflow.sensors.external_task import ExternalTaskSensor\n",
    "from datetime import datetime, timedelta\n",
    "import sys\n",
    "import os\n",
    "\n",
    "# ✅ Airflow에서 preprocess_news.py를 실행할 수 있도록 경로 추가\n",
    "sys.path.append(os.path.dirname(os.path.abspath(__file__)))\n",
    "from preprocess_news import preprocess_news  # ✅ 수정된 파일명 반영!\n",
    "\n",
    "# ✅ DAG 기본 설정\n",
    "default_args = {\n",
    "    \"owner\": \"airflow\",\n",
    "    \"depends_on_past\": False,\n",
    "    \"start_date\": datetime(2024, 2, 16),\n",
    "    \"retries\": 1,\n",
    "    \"retry_delay\": timedelta(minutes=5),\n",
    "}\n",
    "\n",
    "# ✅ DAG 정의\n",
    "with DAG(\"preprocess_news\", default_args=default_args, schedule_interval=\"*/5 * * * *\", catchup=False) as preprocess_dag:\n",
    "\n",
    "    # ✅ 크롤링 DAG 완료 후 실행되도록 설정\n",
    "    wait_for_crawler = ExternalTaskSensor(\n",
    "        task_id=\"wait_for_crawler\",\n",
    "        external_dag_id=\"crypto_news_crawler\",\n",
    "        external_task_id=\"run_crypto_crawler\",\n",
    "        mode=\"poke\",\n",
    "        timeout=600,  # 10분간 감지\n",
    "        poke_interval=15  # 15초마다 감지\n",
    "    )\n",
    "\n",
    "    # ✅ 전처리 실행\n",
    "    preprocess_task = PythonOperator(\n",
    "        task_id=\"preprocess_task\",\n",
    "        python_callable=preprocess_news\n",
    "    )\n",
    "\n",
    "    # ✅ 실행 순서: 크롤링 완료 대기 → 전처리 실행\n",
    "    wait_for_crawler >> preprocess_task\n"
   ]
  }
 ],
 "metadata": {
  "kernelspec": {
   "display_name": "GoormCloudEngg",
   "language": "python",
   "name": "goormcloudengg"
  },
  "language_info": {
   "codemirror_mode": {
    "name": "ipython",
    "version": 3
   },
   "file_extension": ".py",
   "mimetype": "text/x-python",
   "name": "python",
   "nbconvert_exporter": "python",
   "pygments_lexer": "ipython3",
   "version": "3.12.8"
  }
 },
 "nbformat": 4,
 "nbformat_minor": 5
}
